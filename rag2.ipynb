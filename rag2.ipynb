{
 "cells": [
  {
   "cell_type": "markdown",
   "id": "c8d777ea-3d1e-4b72-9350-59def9dec8f2",
   "metadata": {},
   "source": [
    "# RAG2: Working with a local vector database"
   ]
  },
  {
   "cell_type": "markdown",
   "id": "70a9ef88-5cec-4878-b214-b82a2db375bd",
   "metadata": {},
   "source": [
    "While in the previous chapter we used FAISS as an in-memory vector database, in this chapter we will take things further:\n",
    "* Instead of using text strings, we will load structured data into the database\n",
    "* Use an installed vector database - Weaviate"
   ]
  },
  {
   "cell_type": "markdown",
   "id": "d9e314d1-1bf4-4fed-962c-97445acd07dc",
   "metadata": {},
   "source": [
    "## Running Weaviate as a Docker container"
   ]
  },
  {
   "cell_type": "markdown",
   "id": "c1722de5-ed34-45c9-a2e7-868927b8a116",
   "metadata": {},
   "source": [
    "For LLM generative use cases, we need to run Weaviate with the text2vec capability. \n",
    "To do that, use the docker-compose.yaml file in this directory.\n",
    "\n",
    "The final step will be to start Docker with this file:\n",
    "```\n",
    "docker compose up -d\n",
    "```\n",
    "([Installation directions for Docker compose plugin are here](https://docs.docker.com/compose/install/linux/#install-the-plugin-manually))\n",
    "\n",
    "Next we need to install the Python client:"
   ]
  },
  {
   "cell_type": "code",
   "execution_count": 2,
   "id": "baf72e2b-01d4-4ef8-b81d-a0c4c4063adc",
   "metadata": {
    "scrolled": true
   },
   "outputs": [
    {
     "name": "stdout",
     "output_type": "stream",
     "text": [
      "Defaulting to user installation because normal site-packages is not writeable\n",
      "Requirement already satisfied: weaviate-client in /home/yuvalzukerman/.local/lib/python3.12/site-packages (4.9.0)\n",
      "Requirement already satisfied: requests<3.0.0,>=2.30.0 in /home/yuvalzukerman/.local/lib/python3.12/site-packages (from weaviate-client) (2.32.3)\n",
      "Requirement already satisfied: httpx<=0.27.0,>=0.25.0 in /home/yuvalzukerman/.local/lib/python3.12/site-packages (from weaviate-client) (0.27.0)\n",
      "Requirement already satisfied: validators==0.34.0 in /home/yuvalzukerman/.local/lib/python3.12/site-packages (from weaviate-client) (0.34.0)\n",
      "Requirement already satisfied: authlib<1.3.2,>=1.2.1 in /home/yuvalzukerman/.local/lib/python3.12/site-packages (from weaviate-client) (1.3.1)\n",
      "Requirement already satisfied: pydantic<3.0.0,>=2.5.0 in /home/yuvalzukerman/.local/lib/python3.12/site-packages (from weaviate-client) (2.9.2)\n",
      "Requirement already satisfied: grpcio<2.0.0,>=1.57.0 in /home/yuvalzukerman/.local/lib/python3.12/site-packages (from weaviate-client) (1.67.0)\n",
      "Requirement already satisfied: grpcio-tools<2.0.0,>=1.57.0 in /home/yuvalzukerman/.local/lib/python3.12/site-packages (from weaviate-client) (1.67.0)\n",
      "Requirement already satisfied: grpcio-health-checking<2.0.0,>=1.57.0 in /home/yuvalzukerman/.local/lib/python3.12/site-packages (from weaviate-client) (1.67.0)\n",
      "Requirement already satisfied: cryptography in /usr/lib64/python3.12/site-packages (from authlib<1.3.2,>=1.2.1->weaviate-client) (41.0.7)\n",
      "Collecting protobuf<6.0dev,>=5.26.1 (from grpcio-health-checking<2.0.0,>=1.57.0->weaviate-client)\n",
      "  Using cached protobuf-5.28.2-cp38-abi3-manylinux2014_x86_64.whl.metadata (592 bytes)\n",
      "Requirement already satisfied: setuptools in /usr/lib/python3.12/site-packages (from grpcio-tools<2.0.0,>=1.57.0->weaviate-client) (69.0.3)\n",
      "Requirement already satisfied: anyio in /home/yuvalzukerman/.local/lib/python3.12/site-packages (from httpx<=0.27.0,>=0.25.0->weaviate-client) (4.6.2.post1)\n",
      "Requirement already satisfied: certifi in /usr/lib/python3.12/site-packages (from httpx<=0.27.0,>=0.25.0->weaviate-client) (2023.5.7)\n",
      "Requirement already satisfied: httpcore==1.* in /home/yuvalzukerman/.local/lib/python3.12/site-packages (from httpx<=0.27.0,>=0.25.0->weaviate-client) (1.0.6)\n",
      "Requirement already satisfied: idna in /usr/lib/python3.12/site-packages (from httpx<=0.27.0,>=0.25.0->weaviate-client) (3.7)\n",
      "Requirement already satisfied: sniffio in /home/yuvalzukerman/.local/lib/python3.12/site-packages (from httpx<=0.27.0,>=0.25.0->weaviate-client) (1.3.1)\n",
      "Requirement already satisfied: h11<0.15,>=0.13 in /home/yuvalzukerman/.local/lib/python3.12/site-packages (from httpcore==1.*->httpx<=0.27.0,>=0.25.0->weaviate-client) (0.14.0)\n",
      "Requirement already satisfied: annotated-types>=0.6.0 in /home/yuvalzukerman/.local/lib/python3.12/site-packages (from pydantic<3.0.0,>=2.5.0->weaviate-client) (0.7.0)\n",
      "Requirement already satisfied: pydantic-core==2.23.4 in /home/yuvalzukerman/.local/lib/python3.12/site-packages (from pydantic<3.0.0,>=2.5.0->weaviate-client) (2.23.4)\n",
      "Requirement already satisfied: typing-extensions>=4.6.1 in /home/yuvalzukerman/.local/lib/python3.12/site-packages (from pydantic<3.0.0,>=2.5.0->weaviate-client) (4.12.2)\n",
      "Requirement already satisfied: charset-normalizer<4,>=2 in /usr/lib/python3.12/site-packages (from requests<3.0.0,>=2.30.0->weaviate-client) (3.3.2)\n",
      "Requirement already satisfied: urllib3<3,>=1.21.1 in /home/yuvalzukerman/.local/lib/python3.12/site-packages (from requests<3.0.0,>=2.30.0->weaviate-client) (2.2.3)\n",
      "Requirement already satisfied: cffi>=1.12 in /usr/lib64/python3.12/site-packages (from cryptography->authlib<1.3.2,>=1.2.1->weaviate-client) (1.16.0)\n",
      "Requirement already satisfied: pycparser in /usr/lib/python3.12/site-packages (from cffi>=1.12->cryptography->authlib<1.3.2,>=1.2.1->weaviate-client) (2.20)\n",
      "Requirement already satisfied: ply==3.11 in /usr/lib/python3.12/site-packages (from pycparser->cffi>=1.12->cryptography->authlib<1.3.2,>=1.2.1->weaviate-client) (3.11)\n",
      "Using cached protobuf-5.28.2-cp38-abi3-manylinux2014_x86_64.whl (316 kB)\n",
      "Installing collected packages: protobuf\n",
      "  Attempting uninstall: protobuf\n",
      "    Found existing installation: protobuf 4.25.5\n",
      "    Uninstalling protobuf-4.25.5:\n",
      "      Successfully uninstalled protobuf-4.25.5\n",
      "\u001b[31mERROR: pip's dependency resolver does not currently take into account all the packages that are installed. This behaviour is the source of the following dependency conflicts.\n",
      "google-ai-generativelanguage 0.6.6 requires protobuf!=3.20.0,!=3.20.1,!=4.21.0,!=4.21.1,!=4.21.2,!=4.21.3,!=4.21.4,!=4.21.5,<5.0.0dev,>=3.19.5, but you have protobuf 5.28.2 which is incompatible.\u001b[0m\u001b[31m\n",
      "\u001b[0mSuccessfully installed protobuf-5.28.2\n",
      "Note: you may need to restart the kernel to use updated packages.\n"
     ]
    }
   ],
   "source": [
    "%pip install weaviate-client"
   ]
  },
  {
   "cell_type": "markdown",
   "id": "e37f759f-b0ce-4e7b-82a6-7590e8b17755",
   "metadata": {},
   "source": [
    "Check our installation:"
   ]
  },
  {
   "cell_type": "code",
   "execution_count": 3,
   "id": "6a55fa2c-2cdd-48eb-8041-a326e932fc78",
   "metadata": {},
   "outputs": [
    {
     "name": "stdout",
     "output_type": "stream",
     "text": [
      "Name: weaviate-client\n",
      "Version: 4.9.0\n",
      "Summary: A python native Weaviate client\n",
      "Home-page: https://github.com/weaviate/weaviate-python-client\n",
      "Author: Weaviate\n",
      "Author-email: hello@weaviate.io,\n",
      "License: BSD 3-clause\n",
      "Location: /home/yuvalzukerman/.local/lib/python3.12/site-packages\n",
      "Requires: authlib, grpcio, grpcio-health-checking, grpcio-tools, httpx, pydantic, requests, validators\n",
      "Required-by: \n",
      "Note: you may need to restart the kernel to use updated packages.\n"
     ]
    }
   ],
   "source": [
    "%pip show weaviate-client"
   ]
  },
  {
   "cell_type": "markdown",
   "id": "ae37c4c1-bfc0-4394-bdbc-b12d9d887c3a",
   "metadata": {},
   "source": [
    "Let's connect to our Weaviate instance in Docker"
   ]
  },
  {
   "cell_type": "code",
   "execution_count": 4,
   "id": "57c8efc1-06dd-4c4e-be6d-a4dc9ac065cd",
   "metadata": {},
   "outputs": [
    {
     "name": "stdout",
     "output_type": "stream",
     "text": [
      "Successfully connected to Weaviate! Hooray!\n"
     ]
    }
   ],
   "source": [
    "import weaviate\n",
    "import os\n",
    "\n",
    "headers = {\n",
    "    \"X-OpenAI-Api-Key\": os.getenv(\"OPENAI_API_KEY\")\n",
    "}  # Replace with your OpenAI API key\n",
    "\n",
    "client = weaviate.connect_to_local(headers=headers)\n",
    "client.close()\n",
    "print (\"Successfully connected to Weaviate! Hooray!\")"
   ]
  },
  {
   "cell_type": "code",
   "execution_count": 2,
   "id": "ffab995c-ae0e-42dc-ab80-395fa6d94083",
   "metadata": {},
   "outputs": [
    {
     "name": "stdout",
     "output_type": "stream",
     "text": [
      "{\n",
      "  \"hostname\": \"http://[::]:8080\",\n",
      "  \"modules\": {\n",
      "    \"text2vec-openai\": {\n",
      "      \"documentationHref\": \"https://platform.openai.com/docs/guides/embeddings/what-are-embeddings\",\n",
      "      \"name\": \"OpenAI Module\"\n",
      "    }\n",
      "  },\n",
      "  \"version\": \"1.27.0\"\n",
      "}\n"
     ]
    }
   ],
   "source": [
    "import json\n",
    "\n",
    "metainfo = client.get_meta()\n",
    "print(json.dumps(metainfo, indent=2))\n",
    "client.close()"
   ]
  },
  {
   "cell_type": "markdown",
   "id": "65ba4aaf-0aaf-4a33-9bfc-0bfca0534af7",
   "metadata": {},
   "source": [
    "### Populate the vector database"
   ]
  },
  {
   "cell_type": "markdown",
   "id": "a616022c-89c7-4b29-b066-6c83339689f6",
   "metadata": {},
   "source": [
    "From the Weaviate demo, we will create a collection - similar to a database schema. The collection will hold open source movie data."
   ]
  },
  {
   "cell_type": "code",
   "execution_count": 5,
   "id": "f3e8a939-b125-4c39-bf0a-0b7518930867",
   "metadata": {},
   "outputs": [],
   "source": [
    "import weaviate.classes.config as wc\n",
    "\n",
    "client = weaviate.connect_to_local(headers=headers)\n",
    "client.collections.create(\n",
    "    name=\"Movie\",\n",
    "    properties=[\n",
    "        wc.Property(name=\"title\", data_type=wc.DataType.TEXT),\n",
    "        wc.Property(name=\"overview\", data_type=wc.DataType.TEXT),\n",
    "        wc.Property(name=\"vote_average\", data_type=wc.DataType.NUMBER),\n",
    "        wc.Property(name=\"genre_ids\", data_type=wc.DataType.INT_ARRAY),\n",
    "        wc.Property(name=\"release_date\", data_type=wc.DataType.DATE),\n",
    "        wc.Property(name=\"tmdb_id\", data_type=wc.DataType.INT),\n",
    "    ],\n",
    "    # Define the vectorizer module\n",
    "    vectorizer_config=wc.Configure.Vectorizer.text2vec_openai(),\n",
    "    # Define the generative module\n",
    "    generative_config=wc.Configure.Generative.openai()\n",
    ")\n",
    "\n",
    "client.close()"
   ]
  },
  {
   "cell_type": "markdown",
   "id": "9373dcb9-ae51-4299-aa67-be92d9dedbec",
   "metadata": {},
   "source": [
    "With the schema set up, let's load up some data."
   ]
  },
  {
   "cell_type": "code",
   "execution_count": 7,
   "id": "428547d9-2dc0-46ba-9b46-92219ee75dfa",
   "metadata": {},
   "outputs": [
    {
     "data": {
      "text/html": [
       "<div>\n",
       "<style scoped>\n",
       "    .dataframe tbody tr th:only-of-type {\n",
       "        vertical-align: middle;\n",
       "    }\n",
       "\n",
       "    .dataframe tbody tr th {\n",
       "        vertical-align: top;\n",
       "    }\n",
       "\n",
       "    .dataframe thead th {\n",
       "        text-align: right;\n",
       "    }\n",
       "</style>\n",
       "<table border=\"1\" class=\"dataframe\">\n",
       "  <thead>\n",
       "    <tr style=\"text-align: right;\">\n",
       "      <th></th>\n",
       "      <th>backdrop_path</th>\n",
       "      <th>genre_ids</th>\n",
       "      <th>id</th>\n",
       "      <th>original_language</th>\n",
       "      <th>original_title</th>\n",
       "      <th>overview</th>\n",
       "      <th>popularity</th>\n",
       "      <th>poster_path</th>\n",
       "      <th>release_date</th>\n",
       "      <th>title</th>\n",
       "      <th>video</th>\n",
       "      <th>vote_average</th>\n",
       "      <th>vote_count</th>\n",
       "    </tr>\n",
       "  </thead>\n",
       "  <tbody>\n",
       "    <tr>\n",
       "      <th>0</th>\n",
       "      <td>/3Nn5BOM1EVw1IYrv6MsbOS6N1Ol.jpg</td>\n",
       "      <td>[14, 18, 10749]</td>\n",
       "      <td>162</td>\n",
       "      <td>en</td>\n",
       "      <td>Edward Scissorhands</td>\n",
       "      <td>A small suburban town receives a visit from a ...</td>\n",
       "      <td>45.694</td>\n",
       "      <td>/1RFIbuW9Z3eN9Oxw2KaQG5DfLmD.jpg</td>\n",
       "      <td>1990-12-07</td>\n",
       "      <td>Edward Scissorhands</td>\n",
       "      <td>False</td>\n",
       "      <td>7.7</td>\n",
       "      <td>12305</td>\n",
       "    </tr>\n",
       "    <tr>\n",
       "      <th>1</th>\n",
       "      <td>/sw7mordbZxgITU877yTpZCud90M.jpg</td>\n",
       "      <td>[18, 80]</td>\n",
       "      <td>769</td>\n",
       "      <td>en</td>\n",
       "      <td>GoodFellas</td>\n",
       "      <td>The true story of Henry Hill, a half-Irish, ha...</td>\n",
       "      <td>57.228</td>\n",
       "      <td>/aKuFiU82s5ISJpGZp7YkIr3kCUd.jpg</td>\n",
       "      <td>1990-09-12</td>\n",
       "      <td>GoodFellas</td>\n",
       "      <td>False</td>\n",
       "      <td>8.5</td>\n",
       "      <td>12106</td>\n",
       "    </tr>\n",
       "    <tr>\n",
       "      <th>2</th>\n",
       "      <td>/6uLhSLXzB1ooJ3522ydrBZ2Hh0W.jpg</td>\n",
       "      <td>[35, 10751]</td>\n",
       "      <td>771</td>\n",
       "      <td>en</td>\n",
       "      <td>Home Alone</td>\n",
       "      <td>Eight-year-old Kevin McCallister makes the mos...</td>\n",
       "      <td>3.538</td>\n",
       "      <td>/onTSipZ8R3bliBdKfPtsDuHTdlL.jpg</td>\n",
       "      <td>1990-11-16</td>\n",
       "      <td>Home Alone</td>\n",
       "      <td>False</td>\n",
       "      <td>7.4</td>\n",
       "      <td>10599</td>\n",
       "    </tr>\n",
       "    <tr>\n",
       "      <th>3</th>\n",
       "      <td>/vKp3NvqBkcjHkCHSGi6EbcP7g4J.jpg</td>\n",
       "      <td>[12, 35, 878]</td>\n",
       "      <td>196</td>\n",
       "      <td>en</td>\n",
       "      <td>Back to the Future Part III</td>\n",
       "      <td>The final installment of the Back to the Futur...</td>\n",
       "      <td>28.896</td>\n",
       "      <td>/crzoVQnMzIrRfHtQw0tLBirNfVg.jpg</td>\n",
       "      <td>1990-05-25</td>\n",
       "      <td>Back to the Future Part III</td>\n",
       "      <td>False</td>\n",
       "      <td>7.5</td>\n",
       "      <td>9918</td>\n",
       "    </tr>\n",
       "    <tr>\n",
       "      <th>4</th>\n",
       "      <td>/3tuWpnCTe14zZZPt6sI1W9ByOXx.jpg</td>\n",
       "      <td>[35, 10749]</td>\n",
       "      <td>114</td>\n",
       "      <td>en</td>\n",
       "      <td>Pretty Woman</td>\n",
       "      <td>When a millionaire wheeler-dealer enters a bus...</td>\n",
       "      <td>97.953</td>\n",
       "      <td>/hVHUfT801LQATGd26VPzhorIYza.jpg</td>\n",
       "      <td>1990-03-23</td>\n",
       "      <td>Pretty Woman</td>\n",
       "      <td>False</td>\n",
       "      <td>7.5</td>\n",
       "      <td>7671</td>\n",
       "    </tr>\n",
       "  </tbody>\n",
       "</table>\n",
       "</div>"
      ],
      "text/plain": [
       "                      backdrop_path        genre_ids   id original_language  \\\n",
       "0  /3Nn5BOM1EVw1IYrv6MsbOS6N1Ol.jpg  [14, 18, 10749]  162                en   \n",
       "1  /sw7mordbZxgITU877yTpZCud90M.jpg         [18, 80]  769                en   \n",
       "2  /6uLhSLXzB1ooJ3522ydrBZ2Hh0W.jpg      [35, 10751]  771                en   \n",
       "3  /vKp3NvqBkcjHkCHSGi6EbcP7g4J.jpg    [12, 35, 878]  196                en   \n",
       "4  /3tuWpnCTe14zZZPt6sI1W9ByOXx.jpg      [35, 10749]  114                en   \n",
       "\n",
       "                original_title  \\\n",
       "0          Edward Scissorhands   \n",
       "1                   GoodFellas   \n",
       "2                   Home Alone   \n",
       "3  Back to the Future Part III   \n",
       "4                 Pretty Woman   \n",
       "\n",
       "                                            overview  popularity  \\\n",
       "0  A small suburban town receives a visit from a ...      45.694   \n",
       "1  The true story of Henry Hill, a half-Irish, ha...      57.228   \n",
       "2  Eight-year-old Kevin McCallister makes the mos...       3.538   \n",
       "3  The final installment of the Back to the Futur...      28.896   \n",
       "4  When a millionaire wheeler-dealer enters a bus...      97.953   \n",
       "\n",
       "                        poster_path release_date                        title  \\\n",
       "0  /1RFIbuW9Z3eN9Oxw2KaQG5DfLmD.jpg   1990-12-07          Edward Scissorhands   \n",
       "1  /aKuFiU82s5ISJpGZp7YkIr3kCUd.jpg   1990-09-12                   GoodFellas   \n",
       "2  /onTSipZ8R3bliBdKfPtsDuHTdlL.jpg   1990-11-16                   Home Alone   \n",
       "3  /crzoVQnMzIrRfHtQw0tLBirNfVg.jpg   1990-05-25  Back to the Future Part III   \n",
       "4  /hVHUfT801LQATGd26VPzhorIYza.jpg   1990-03-23                 Pretty Woman   \n",
       "\n",
       "   video  vote_average  vote_count  \n",
       "0  False           7.7       12305  \n",
       "1  False           8.5       12106  \n",
       "2  False           7.4       10599  \n",
       "3  False           7.5        9918  \n",
       "4  False           7.5        7671  "
      ]
     },
     "execution_count": 7,
     "metadata": {},
     "output_type": "execute_result"
    }
   ],
   "source": [
    "# Download movie data\n",
    "import pandas as pd\n",
    "import requests\n",
    "import json\n",
    "\n",
    "data_url = \"https://raw.githubusercontent.com/weaviate-tutorials/edu-datasets/main/movies_data_1990_2024.json\"\n",
    "resp = requests.get(data_url)\n",
    "df = pd.DataFrame(resp.json())\n",
    "\n",
    "df.head()"
   ]
  },
  {
   "cell_type": "markdown",
   "id": "351dcfde-ffaa-41c1-8f08-1448814bf862",
   "metadata": {},
   "source": [
    "#### Inserting individual rows into the database"
   ]
  },
  {
   "cell_type": "code",
   "execution_count": 9,
   "id": "f8e1ad8b-f476-486e-b2a6-7a094e5f3e9e",
   "metadata": {},
   "outputs": [
    {
     "name": "stdout",
     "output_type": "stream",
     "text": [
      "dd378331-78b1-4df2-878f-c0140b977fe8\n"
     ]
    }
   ],
   "source": [
    "import weaviate\n",
    "import os\n",
    "from datetime import datetime, timezone\n",
    "from weaviate.util import generate_uuid5\n",
    "\n",
    "\n",
    "headers = {\n",
    "    \"X-OpenAI-Api-Key\": os.environ.get(\"OPENAI_API_KEY\")\n",
    "    #os.getenv(\"OPENAI_APIKEY\")\n",
    "}  # Replace with your OpenAI API key\n",
    "\n",
    "try:    \n",
    "    # connect to database\n",
    "    client = weaviate.connect_to_local(headers=headers)\n",
    "    movies = client.collections.get(\"Movie\")\n",
    "\n",
    "    # get the first entry\n",
    "    first_movie = df.iloc[1]\n",
    "    #print(first_movie)\n",
    "    \n",
    "    release_date = datetime.strptime(first_movie[\"release_date\"], \"%Y-%m-%d\").replace(\n",
    "                    tzinfo=timezone.utc\n",
    "                )\n",
    "    genre_ids = json.loads(first_movie[\"genre_ids\"])\n",
    "    vote_avg = int(first_movie[\"vote_average\"])\n",
    "    tmdb_id = int(first_movie[\"id\"])\n",
    "\n",
    "    movie_obj = { \n",
    "        \"title\": first_movie[\"title\"],\n",
    "            \"overview\": first_movie[\"overview\"],\n",
    "            \"vote_average\": vote_avg,\n",
    "            \"genre_ids\": genre_ids, \n",
    "            \"release_date\": release_date,\n",
    "            \"tmdb_id\": tmdb_id\n",
    "        }\n",
    "    \n",
    "    uuid = movies.data.insert(\n",
    "        properties = movie_obj,\n",
    "        #uuid = generate_uuid5(movie_obj),\n",
    "    )\n",
    "\n",
    "    print(uuid)\n",
    "finally: \n",
    "    client.close()"
   ]
  },
  {
   "cell_type": "markdown",
   "id": "a316edca-1228-4fb2-a1d5-cb89051ec0ba",
   "metadata": {},
   "source": [
    "#### Batch data loading"
   ]
  },
  {
   "cell_type": "code",
   "execution_count": 10,
   "id": "52cc9b3a-c5a9-4306-903f-cf64722e6201",
   "metadata": {},
   "outputs": [
    {
     "name": "stderr",
     "output_type": "stream",
     "text": [
      "100%|████████████████████████████████████████| 680/680 [00:04<00:00, 168.97it/s]\n"
     ]
    }
   ],
   "source": [
    "import weaviate\n",
    "from datetime import datetime, timezone\n",
    "\n",
    "from weaviate.util import generate_uuid5\n",
    "from tqdm import tqdm\n",
    "import os\n",
    "\n",
    "try:    \n",
    "    # connect to database\n",
    "    client = weaviate.connect_to_local(headers=headers)\n",
    "           \n",
    "    # Get the collection\n",
    "    movies = client.collections.get(\"Movie\")\n",
    "    \n",
    "    # Enter context manager\n",
    "    with movies.batch.dynamic() as batch:\n",
    "        # Loop through the data\n",
    "        for i, movie in tqdm(df.iterrows(), total=len(df)):\n",
    "            # Convert data types\n",
    "            # Convert a JSON date to `datetime` and add time zone information\n",
    "            release_date = datetime.strptime(movie[\"release_date\"], \"%Y-%m-%d\").replace(\n",
    "                tzinfo=timezone.utc\n",
    "            )\n",
    "            # Convert a JSON array to a list of integers\n",
    "            genre_ids = json.loads(movie[\"genre_ids\"])\n",
    "\n",
    "            vote_avg = int(movie[\"vote_average\"])\n",
    "            tmdb_id = int(movie[\"id\"])\n",
    "    \n",
    "            # Build the object payload\n",
    "            movie_obj = {\n",
    "                \"title\": movie[\"title\"],\n",
    "                \"overview\": movie[\"overview\"],\n",
    "                \"vote_average\": vote_avg,\n",
    "                \"genre_ids\": genre_ids,\n",
    "                \"release_date\": release_date,\n",
    "                \"tmdb_id\": tmdb_id,\n",
    "            }\n",
    "\n",
    "            seed = movie[\"title\"] + str(movie[\"id\"])\n",
    "    \n",
    "            # Add object to batch queue\n",
    "            batch.add_object(\n",
    "                properties=movie_obj,\n",
    "                uuid=generate_uuid5(seed)\n",
    "                # references=reference_obj  # You can add references here\n",
    "            )\n",
    "            # Batcher automatically sends batches\n",
    "    \n",
    "    # Check for failed objects\n",
    "    if len(movies.batch.failed_objects) > 0:\n",
    "        print(f\"Failed to import {len(movies.batch.failed_objects)} objects\")\n",
    "finally:\n",
    "    client.close()"
   ]
  },
  {
   "cell_type": "markdown",
   "id": "33d0de60-344a-443b-860e-bf55a5f23fef",
   "metadata": {},
   "source": [
    "## Searching"
   ]
  },
  {
   "cell_type": "markdown",
   "id": "0a8bdf68-8576-4ace-80ba-31d8db38b054",
   "metadata": {},
   "source": [
    "#### Keyword search\n",
    "This search uses a relevance algorithm, as opposed to vector distance.\n",
    "You specify you want this search method in the attribute:\n",
    "```python\n",
    "return_metadata=wq.MetadataQuery(distance=True)\n",
    "```"
   ]
  },
  {
   "cell_type": "code",
   "execution_count": 13,
   "id": "b369c103-3138-4c36-acaa-172209e80e7f",
   "metadata": {},
   "outputs": [
    {
     "name": "stdout",
     "output_type": "stream",
     "text": [
      "Gattaca 1997 da7e6b77-f10a-5d9e-b86d-d1152c2825a7\n",
      "Distance to query: 0.187\n",
      "\n",
      "Mad Max: Fury Road 2015 9e48bc0d-deb6-5856-96ee-a159362f3292\n",
      "Distance to query: 0.189\n",
      "\n",
      "In Time 2011 56bf229a-2e15-5c5e-b740-a5cd35b644a9\n",
      "Distance to query: 0.190\n",
      "\n",
      "I, Robot 2004 7920b130-0163-5a3f-af88-3b486b5a74d6\n",
      "Distance to query: 0.193\n",
      "\n",
      "Children of Men 2006 6e07b865-2d2a-5029-a140-e46b60a51d19\n",
      "Distance to query: 0.196\n",
      "\n"
     ]
    }
   ],
   "source": [
    "import weaviate\n",
    "import weaviate.classes.query as wq\n",
    "import os\n",
    "\n",
    "\n",
    "headers = {\n",
    "    \"X-OpenAI-Api-Key\": os.environ.get(\"OPENAI_API_KEY\")\n",
    "    #os.getenv(\"OPENAI_APIKEY\")\n",
    "}  # Replace with your OpenAI API key\n",
    "\n",
    "try:    \n",
    "    # connect to database\n",
    "    client = weaviate.connect_to_local(headers=headers)\n",
    "    movies = client.collections.get(\"Movie\")\n",
    "    \n",
    "    \n",
    "    # Perform query\n",
    "    response = movies.query.near_text(\n",
    "        query=\"dystopian future\", \n",
    "        limit=5, # maximum number of results\n",
    "        return_metadata=wq.MetadataQuery(distance=True)\n",
    "    )\n",
    "    \n",
    "    # Inspect the response\n",
    "    for o in response.objects:\n",
    "        print(\n",
    "            o.properties[\"title\"], o.properties[\"release_date\"].year, o.uuid\n",
    "        )  # Print the title and release year (note the release date is a datetime object)\n",
    "        print(\n",
    "            f\"Distance to query: {o.metadata.distance:.3f}\\n\"\n",
    "        )  # Print the distance of the object from the query\n",
    "\n",
    "finally:\n",
    "    client.close()"
   ]
  },
  {
   "cell_type": "markdown",
   "id": "b4109682-2bd0-48ac-bce4-1611ee1caf03",
   "metadata": {},
   "source": [
    "#### Hybrid search\n",
    "This uses the algorithmic search along with semantic/vector search.\n",
    "The key difference is in the attribute:\n",
    "```python\n",
    "return_metadata=wq.MetadataQuery(score=True)\n",
    "```"
   ]
  },
  {
   "cell_type": "code",
   "execution_count": 14,
   "id": "d3b85c4f-b055-42c6-b4ce-8e8d89f315e2",
   "metadata": {},
   "outputs": [
    {
     "name": "stdout",
     "output_type": "stream",
     "text": [
      "Legends of the Fall 1994 3d241a94-119e-5a4c-a025-9f52a5a21dae\n",
      "Hybrid score: 0.822\n",
      "\n",
      "Hacksaw Ridge 2016 1dbdb868-d8dd-5887-943f-037bea19b953\n",
      "Hybrid score: 0.617\n",
      "\n",
      "The Butterfly Effect 2004 95bd7d50-9222-5192-81cf-764e57ad9536\n",
      "Hybrid score: 0.566\n",
      "\n",
      "A Beautiful Mind 2001 1d8a3a9d-a527-5af3-b64c-9bdde4f40ba1\n",
      "Hybrid score: 0.559\n",
      "\n",
      "Forrest Gump 1994 d4d8da98-b202-5067-aac4-533cbdc63859\n",
      "Hybrid score: 0.541\n",
      "\n"
     ]
    }
   ],
   "source": [
    "import weaviate\n",
    "import weaviate.classes.query as wq\n",
    "import os\n",
    "\n",
    "\n",
    "headers = {\n",
    "    \"X-OpenAI-Api-Key\": os.environ.get(\"OPENAI_API_KEY\")\n",
    "    #os.getenv(\"OPENAI_APIKEY\")\n",
    "}  # Replace with your OpenAI API key\n",
    "\n",
    "try:    \n",
    "    # connect to database\n",
    "    client = weaviate.connect_to_local(headers=headers)\n",
    "    movies = client.collections.get(\"Movie\")\n",
    "\n",
    "    # Perform query\n",
    "    response = movies.query.hybrid(\n",
    "        query=\"history\", limit=5, return_metadata=wq.MetadataQuery(score=True)\n",
    "    )\n",
    "    \n",
    "    # Inspect the response\n",
    "    for o in response.objects:\n",
    "        print(\n",
    "            o.properties[\"title\"], o.properties[\"release_date\"].year, o.uuid\n",
    "        )  # Print the title and release year (note the release date is a datetime object)\n",
    "        print(\n",
    "            f\"Hybrid score: {o.metadata.score:.3f}\\n\"\n",
    "        )  # Print the hybrid search score of the object from the query\n",
    "\n",
    "finally:\n",
    "    client.close()"
   ]
  },
  {
   "cell_type": "markdown",
   "id": "e5dbf897-45fb-47df-97d8-8183ec5b332b",
   "metadata": {},
   "source": [
    "#### Search Filters"
   ]
  },
  {
   "cell_type": "code",
   "execution_count": 6,
   "id": "55958011-d1b3-4942-8e6f-89e07c195ab1",
   "metadata": {},
   "outputs": [
    {
     "name": "stderr",
     "output_type": "stream",
     "text": [
      "/home/yuvalzukerman/.local/lib/python3.12/site-packages/weaviate/warnings.py:244: UserWarning: Con002: You are using the datetime object 2020-01-01 00:00:00 without a timezone. The timezone will be set to UTC.\n",
      "            To use a different timezone, specify it in the datetime object. For example:\n",
      "            datetime.datetime(2021, 1, 1, 0, 0, 0, tzinfo=datetime.timezone(-datetime.timedelta(hours=2))).isoformat() = 2021-01-01T00:00:00-02:00\n",
      "            \n",
      "  warnings.warn(\n"
     ]
    },
    {
     "name": "stdout",
     "output_type": "stream",
     "text": [
      "Dune 2021\n",
      "Distance to query: 0.197\n",
      "\n",
      "Dune 2021\n",
      "Distance to query: 0.197\n",
      "\n",
      "Greenland 2020\n",
      "Distance to query: 0.210\n",
      "\n",
      "Greenland 2020\n",
      "Distance to query: 0.210\n",
      "\n",
      "Tenet 2020\n",
      "Distance to query: 0.218\n",
      "\n"
     ]
    }
   ],
   "source": [
    "from datetime import datetime\n",
    "\n",
    "try:\n",
    "    # connect to database\n",
    "    client = weaviate.connect_to_local(headers=headers)\n",
    "    movies = client.collections.get(\"Movie\")\n",
    "\n",
    "    # Perform query\n",
    "    response = movies.query.near_text(\n",
    "        query=\"dystopian future\",\n",
    "        limit=5,\n",
    "        return_metadata=wq.MetadataQuery(distance=True),\n",
    "        filters=wq.Filter.by_property(\"release_date\").greater_than(datetime(2020, 1, 1))\n",
    "    )\n",
    "    \n",
    "    # Inspect the response\n",
    "    for o in response.objects:\n",
    "        print(\n",
    "            o.properties[\"title\"], o.properties[\"release_date\"].year\n",
    "        )  # Print the title and release year (note the release date is a datetime object)\n",
    "        print(\n",
    "            f\"Distance to query: {o.metadata.distance:.3f}\\n\"\n",
    "        )  # Print the distance of the object from the query\n",
    "\n",
    "finally: \n",
    "    client.close()\n",
    "\n",
    "    "
   ]
  },
  {
   "cell_type": "markdown",
   "id": "8744d7b7-586c-40e4-a25b-12e867d13f68",
   "metadata": {},
   "source": [
    "### CRUD Operations\n",
    "Like with any database, you access objects via their ID. Let's find one of the movies in the database, update and delete it.\n",
    "The first step would be to get the movie's UUID, so let's query for it."
   ]
  },
  {
   "cell_type": "code",
   "execution_count": 15,
   "id": "80ba5765-4520-49ce-b264-7e4595455562",
   "metadata": {},
   "outputs": [
    {
     "name": "stdout",
     "output_type": "stream",
     "text": [
      "eb90287c-c1aa-5a81-8071-936ee73df166\n",
      "GoodFellas\n",
      "8.0\n",
      "\n",
      "\n",
      "dd378331-78b1-4df2-878f-c0140b977fe8\n",
      "GoodFellas\n",
      "8.0\n",
      "\n",
      "\n",
      "{'overview': 'The true story of Henry Hill, a half-Irish, half-Sicilian Brooklyn kid who is adopted by neighbourhood gangsters at an early age and climbs the ranks of a Mafia family under the guidance of Jimmy Conway.', 'title': 'GoodFellas', 'release_date': datetime.datetime(1990, 9, 12, 0, 0, tzinfo=datetime.timezone.utc), 'tmdb_id': 769, 'vote_average': 33.92, 'genre_ids': [18, 80]}\n"
     ]
    }
   ],
   "source": [
    "import weaviate\n",
    "import weaviate.classes.query as wq\n",
    "import os\n",
    "\n",
    "\n",
    "headers = {\n",
    "    \"X-OpenAI-Api-Key\": os.environ.get(\"OPENAI_API_KEY\")\n",
    "    #os.getenv(\"OPENAI_APIKEY\")\n",
    "}  # Replace with your OpenAI API key\n",
    "\n",
    "try:    \n",
    "    # connect to database\n",
    "    client = weaviate.connect_to_local(headers=headers)\n",
    "    movies = client.collections.get(\"Movie\")\n",
    "\n",
    "    # Perform query\n",
    "    movie_uuid = ''\n",
    "    response = movies.query.bm25(\n",
    "            query = \"GoodFellas\"\n",
    "        )\n",
    "    \n",
    "    # Inspect the response\n",
    "    for o in response.objects:\n",
    "        movie_uuid = str(o.uuid) # just picking up one result\n",
    "        print(o.uuid)\n",
    "        print(o.properties[\"title\"])\n",
    "        print(o.properties[\"vote_average\"])\n",
    "        print(\"\\n\")\n",
    "\n",
    "    \n",
    "    # See the vector\n",
    "    data_object = movies.query.fetch_object_by_id(\n",
    "        str(movie_uuid)\n",
    "    )\n",
    "\n",
    "    # print(data_object.vector[\"default\"])\n",
    "\n",
    "    ######\n",
    "    # Update\n",
    "    ######\n",
    "    movies.data.update (\n",
    "        uuid = movie_uuid,\n",
    "        properties = {\n",
    "            \"vote_average\" : 33.92,\n",
    "        }\n",
    "    )\n",
    "\n",
    "    # check whether the update took place\n",
    "    # Perform query\n",
    "    response = movies.query.fetch_object_by_id(movie_uuid)\n",
    "    \n",
    "    # Inspect the response\n",
    "    print(response.properties)\n",
    "    \n",
    "finally:\n",
    "    client.close()"
   ]
  },
  {
   "cell_type": "code",
   "execution_count": null,
   "id": "8aee4e16-32f6-4f30-b845-69dbe54bc0de",
   "metadata": {},
   "outputs": [],
   "source": []
  }
 ],
 "metadata": {
  "kernelspec": {
   "display_name": "Python 3 (ipykernel)",
   "language": "python",
   "name": "python3"
  },
  "language_info": {
   "codemirror_mode": {
    "name": "ipython",
    "version": 3
   },
   "file_extension": ".py",
   "mimetype": "text/x-python",
   "name": "python",
   "nbconvert_exporter": "python",
   "pygments_lexer": "ipython3",
   "version": "3.10.5"
  }
 },
 "nbformat": 4,
 "nbformat_minor": 5
}

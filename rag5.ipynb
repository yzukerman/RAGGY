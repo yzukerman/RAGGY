{
 "cells": [
  {
   "cell_type": "markdown",
   "id": "f3c3eaf7-7aab-44a2-b713-e5b610e14913",
   "metadata": {},
   "source": [
    "# RAG with Weaviate and local embedding model\n",
    "\n",
    "## Overview\n",
    "In this chapter we will:\n",
    "1. Replace OpenAI's embedding model with a local one called ```nomic-embed-text```.\n",
    "2. Load the embedding into a new vector database (With the same structure).\n",
    "3. Query the database.\n",
    "4. Pass the result along with the query to the LLM\n",
    "We can then compare whether the results were any worse than those of the OpenAI embedding model.\n",
    "\n",
    "### A local embedding model\n",
    "As we saw in the previous chapter, OpenAI throttles our embedding and slows the process down. The rate appeared to be 5 embeddings per second. Not quick. In addition, OpenAI is also charging us for the pleasure. \n",
    "\n",
    "### Getting going\n",
    "[Ollama](https://ollama.com/) allows you to run LLMs locally. While I run on a 6 year-old Linux machine with an ancient AMD GPU, I am going to see if that's enough to host a small embedding model like Nomic.\n",
    "\n",
    "To run, download Ollama and [follow the instructions here](https://ollama.com/library/nomic-embed-text) on how to pull Nomic using Ollama's command line. \n",
    "\n",
    "### Create a new database\n",
    "We will start by creating a new collection/database in Weaviate. The database will have the same structure as we will still use Langchain's tools to read and split the PDFs."
   ]
  },
  {
   "cell_type": "code",
   "execution_count": 4,
   "id": "396dcdb4-6f1f-4857-9205-c1a004ce02ad",
   "metadata": {},
   "outputs": [],
   "source": [
    "import weaviate.classes.config as wc\n",
    "import weaviate\n",
    "import os\n",
    "\n",
    "headers = {\n",
    "    \"X-OpenAI-Api-Key\": os.getenv(\"OPENAI_API_KEY\")\n",
    "}  # Replace with your OpenAI API key\n",
    "\n",
    "client = weaviate.connect_to_local()\n",
    "\n",
    "client.collections.create(\n",
    "    name=\"ADI_DOCS_TOO\",\n",
    "    properties=[\n",
    "        wc.Property(name=\"chunk_content\", data_type=wc.DataType.TEXT),\n",
    "        wc.Property(name=\"chunk_document_name\", data_type=wc.DataType.TEXT),\n",
    "        wc.Property(name=\"chunk_document_page\", data_type=wc.DataType.INT),\n",
    "    ],\n",
    "    # Define the vectorizer module\n",
    "    vectorizer_config=wc.Configure.Vectorizer.text2vec_openai(),\n",
    "    # Define the generative module\n",
    "    generative_config=wc.Configure.Generative.openai()\n",
    ")\n",
    "\n",
    "client.close()"
   ]
  },
  {
   "cell_type": "markdown",
   "id": "d67e2479-4680-45ec-bfae-2a6256a46589",
   "metadata": {},
   "source": [
    "### Extract text from the PDFs\n",
    "Again, like in the previous chapter, we will repeat the text extraction."
   ]
  },
  {
   "cell_type": "code",
   "execution_count": 5,
   "id": "975c1810-7abc-4e00-af72-cf27dd410f9f",
   "metadata": {},
   "outputs": [
    {
     "name": "stdout",
     "output_type": "stream",
     "text": [
      "page_content='aBlackfin® A-V EZ-Extender®\n",
      "Manual\n",
      "Revision 2.1, July 2012\n",
      "Part Number\n",
      "82-000870-01\n",
      "Analog Devices, Inc.\n",
      "One T echnology Way\n",
      "Norwood, Mass. 02062-9106' metadata={'source': 'docs/AV_Blkf_EZ_extender_man_rev.2.1.pdf', 'page': 0}\n"
     ]
    }
   ],
   "source": [
    "from langchain.document_loaders.pdf import PyPDFDirectoryLoader\n",
    "from langchain_text_splitters import RecursiveCharacterTextSplitter\n",
    "from langchain.schema.document import Document\n",
    "\n",
    "# load the documents\n",
    "def load_documents():\n",
    "    document_loader = PyPDFDirectoryLoader(\"docs\")\n",
    "    return document_loader.load()\n",
    "\n",
    "# split documents to managable chunks\n",
    "def split_documents(documents: list[Document]):\n",
    "    text_splitter = RecursiveCharacterTextSplitter(\n",
    "        chunk_size = 800,\n",
    "        chunk_overlap = 80,\n",
    "        length_function = len,\n",
    "        is_separator_regex=False,\n",
    "    )\n",
    "    return text_splitter.split_documents(documents)\n",
    "\n",
    "documents = load_documents()\n",
    "chunks = split_documents(documents)\n",
    "print(chunks[0])"
   ]
  },
  {
   "cell_type": "markdown",
   "id": "2678c091-1037-405a-8900-61e5b8931b85",
   "metadata": {},
   "source": [
    "Because this takes a while... let's save the chunks to a file"
   ]
  },
  {
   "cell_type": "code",
   "execution_count": 6,
   "id": "06053218-1f91-4fb6-922c-4afe22a77903",
   "metadata": {},
   "outputs": [],
   "source": [
    "import pickle\n",
    "\n",
    "with open(\"docs/text_chunks.pkl\", \"wb\") as file:  # 'wb' means write in binary mode\n",
    "    pickle.dump(chunks, file)\n"
   ]
  },
  {
   "cell_type": "code",
   "execution_count": 8,
   "id": "c6a65e4d-c1f6-4e2a-88dc-e38c97d57f28",
   "metadata": {},
   "outputs": [
    {
     "name": "stdout",
     "output_type": "stream",
     "text": [
      "-rw-r--r-- 1 yuvalzukerman yuvalzukerman 45M Oct 21 19:56 docs/text_chunks.pkl\n"
     ]
    }
   ],
   "source": [
    "!ls -alh \"docs/text_chunks.pkl\""
   ]
  },
  {
   "cell_type": "markdown",
   "id": "88427174-1724-4546-a81c-eef2fd5fc102",
   "metadata": {},
   "source": [
    "### Load the database with our local embedding model\n",
    "To try things out, let's start with adding a single chunk into Weaviate with Nomic embedding via Ollama."
   ]
  },
  {
   "cell_type": "code",
   "execution_count": 9,
   "id": "8f5da540-86ed-4a8e-8c40-d47f8e2351df",
   "metadata": {},
   "outputs": [
    {
     "name": "stdout",
     "output_type": "stream",
     "text": [
      "3a0fe015-49b5-55aa-8d72-c1abbbb2b499\n"
     ]
    }
   ],
   "source": [
    "from weaviate.util import generate_uuid5\n",
    "import ollama\n",
    "\n",
    "try:\n",
    "    # Connect to Weaviate\n",
    "    client = weaviate.connect_to_local()\n",
    "    # Get the collection\n",
    "    adi_docs = client.collections.get(\"ADI_DOCS_TOO\")\n",
    "\n",
    "    chunk_obj = {\n",
    "                \"chunk_content\": chunks[0].page_content,\n",
    "                \"chunk_document_name\": chunks[0].metadata['source'],\n",
    "                \"chunk_document_page\": chunks[0].metadata['page'],\n",
    "            }\n",
    "    \n",
    "    # Create a UUID seed\n",
    "    cur_doc = chunks[0].metadata['source']\n",
    "    cur_page = chunks[0].metadata['page']\n",
    "\n",
    "    seed = cur_doc + \":\" + str(cur_page) + \":0\"\n",
    "\n",
    "    response = ollama.embeddings(model=\"nomic-embed-text\", \n",
    "                                     prompt=chunks[0].page_content)\n",
    "\n",
    "    chunk_vector = response[\"embedding\"]\n",
    "    \n",
    "    uuid = adi_docs.data.insert(\n",
    "        properties = chunk_obj,\n",
    "        uuid= generate_uuid5(seed),\n",
    "        vector = chunk_vector\n",
    "    )\n",
    "\n",
    "    print(uuid)\n",
    "        \n",
    "        \n",
    "\n",
    "finally:\n",
    "    client.close()"
   ]
  },
  {
   "cell_type": "markdown",
   "id": "5426c632-197b-41fe-a1da-5b3fd5bf872a",
   "metadata": {},
   "source": [
    "That looks like it worked, but let's try to search for this. Since we brought our embedding, we need to embed our query ourselves."
   ]
  },
  {
   "cell_type": "code",
   "execution_count": 11,
   "id": "e12b072c-e10e-432f-bc67-54857ad096cd",
   "metadata": {},
   "outputs": [
    {
     "name": "stdout",
     "output_type": "stream",
     "text": [
      "aBlackfin® A-V EZ-Extender®\n",
      "Manual\n",
      "Revision 2.1, July 2012\n",
      "Part Number\n",
      "82-000870-01\n",
      "Analog Devices, Inc.\n",
      "One T echnology Way\n",
      "Norwood, Mass. 02062-9106 3a0fe015-49b5-55aa-8d72-c1abbbb2b499\n",
      "Distance to query: 0.285\n",
      "\n"
     ]
    }
   ],
   "source": [
    "import weaviate.classes.query as wq\n",
    "from weaviate.classes.query import MetadataQuery\n",
    "\n",
    "try:\n",
    "    # Connect to Weaviate\n",
    "    client = weaviate.connect_to_local()\n",
    "    # Get the collection\n",
    "    adi_docs = client.collections.get(\"ADI_DOCS_TOO\")\n",
    "\n",
    "    # our query\n",
    "    query=\"EZ-Extender\"\n",
    "\n",
    "    # Get query embedding\n",
    "    response = ollama.embeddings(model=\"nomic-embed-text\", \n",
    "                                     prompt=query)\n",
    "\n",
    "    query_vector = response[\"embedding\"]\n",
    "    \n",
    "    # Perform query\n",
    "    response = adi_docs.query.near_vector(\n",
    "        near_vector = query_vector, \n",
    "        limit=5, # maximum number of results\n",
    "        return_metadata=MetadataQuery(distance=True)\n",
    "    )\n",
    "\n",
    "    # Inspect the response\n",
    "    for o in response.objects:\n",
    "        print(\n",
    "            o.properties[\"chunk_content\"], o.uuid\n",
    "        )  # Print the title and release year (note the release date is a datetime object)\n",
    "        print(\n",
    "            f\"Distance to query: {o.metadata.distance:.3f}\\n\"\n",
    "        )  # Print the distance of the object from the query\n",
    "\n",
    "finally:\n",
    "    client.close()"
   ]
  },
  {
   "cell_type": "markdown",
   "id": "9f2938eb-ecde-4f00-b8fc-2e6d8cf198bb",
   "metadata": {},
   "source": [
    "#### Scaling that to the remaining chunks...\n",
    "Let's try a simplistic approach:\n",
    "1. Iterate over the chunk list\n",
    "2. Create a list of chunk objects (like we did above to hold the text, page, and source document)\n",
    "3. Create a list of corresponding embeddings with matching position IDs\n",
    "4. Create a list of UUIDs\n",
    "\n",
    "The goal will be to iterate over the two lists and batch insert the chunks into Weaviate. We will do that in the next step."
   ]
  },
  {
   "cell_type": "code",
   "execution_count": 13,
   "id": "3f396aa7-0ef3-4ae8-9d20-cf688fcee305",
   "metadata": {},
   "outputs": [
    {
     "name": "stderr",
     "output_type": "stream",
     "text": [
      "Processing: 100%|███████████████████| 68089/68089 [5:55:38<00:00,  3.19chunk/s]\n"
     ]
    }
   ],
   "source": [
    "from tqdm import tqdm\n",
    "\n",
    "chunk_count = len(chunks)\n",
    "chunk_obj_list = []\n",
    "chunk_embedding_list = []\n",
    "chunk_uuid_list = []\n",
    "\n",
    "# UUID generation\n",
    "# UUID seeds will be doc:page:chunk\n",
    "last_doc = \"\"\n",
    "last_page = \"\"\n",
    "page_chunk = 0\n",
    "\n",
    "# note that we are starting with chunk 1 \n",
    "# as we inserted chunk 0 manually above\n",
    "\n",
    "for i in tqdm(range(1, chunk_count), desc=\"Processing\", unit=\"chunk\"):\n",
    "\n",
    "    # Create a UUID seed\n",
    "    cur_doc = chunks[i].metadata['source']\n",
    "    cur_page = chunks[i].metadata['page']\n",
    "    cur_content = chunks[i].page_content\n",
    "    \n",
    "    chunk_obj = {\n",
    "                \"chunk_content\": cur_content,\n",
    "                \"chunk_document_name\": cur_doc,\n",
    "                \"chunk_document_page\": cur_page,\n",
    "            }\n",
    "\n",
    "    # Create a UUID seed\n",
    "    if last_doc != cur_doc:\n",
    "        last_doc = cur_doc\n",
    "\n",
    "    if last_page != cur_page:\n",
    "        last_page = cur_page\n",
    "        page_chunk = 0\n",
    "    else:\n",
    "        page_chunk += 1\n",
    "    \n",
    "    \n",
    "    seed = cur_doc + \":\" + str(cur_page) + \":\" + str(page_chunk)\n",
    "\n",
    "    # Generate embedding\n",
    "    response = ollama.embeddings(model=\"nomic-embed-text\", \n",
    "                                     prompt=chunks[i].page_content)\n",
    "\n",
    "    chunk_vector = response[\"embedding\"]\n",
    "\n",
    "    # add to the lists!\n",
    "    chunk_obj_list.append(chunk_obj)\n",
    "    chunk_embedding_list.append(chunk_vector)\n",
    "    chunk_uuid_list.append(generate_uuid5(seed))"
   ]
  },
  {
   "cell_type": "markdown",
   "id": "909f98e6-54ed-4b7e-a518-71f1f2ee47e7",
   "metadata": {},
   "source": [
    "As you can see, it does help to have a more powerful and modern machine with a GPU to run this process in less than 6 hours...\n",
    "For now, we will also save the vectors we produced."
   ]
  },
  {
   "cell_type": "code",
   "execution_count": 14,
   "id": "22fe2428-ed84-4d00-9817-7e7715ff1e99",
   "metadata": {},
   "outputs": [],
   "source": [
    "with open(\"docs/text_vectors.pkl\", \"wb\") as file:  # 'wb' means write in binary mode\n",
    "    pickle.dump(chunk_embedding_list, file)"
   ]
  },
  {
   "cell_type": "markdown",
   "id": "91dc466f-a628-45ba-b5c2-165e1ec1b879",
   "metadata": {},
   "source": [
    "### Load data into Weaviate"
   ]
  },
  {
   "cell_type": "code",
   "execution_count": 21,
   "id": "8319055a-a646-4409-8be3-e7c2c90cb37b",
   "metadata": {},
   "outputs": [
    {
     "name": "stderr",
     "output_type": "stream",
     "text": [
      "100%|█████████████████████████████████▉| 68089/68090 [00:23<00:00, 2872.70it/s]\n"
     ]
    }
   ],
   "source": [
    "try:    \n",
    "    # connect to database\n",
    "    client = weaviate.connect_to_local()\n",
    "           \n",
    "    # Get the collection\n",
    "    adi_docs = client.collections.get(\"ADI_DOCS_TOO\")\n",
    "\n",
    "    list_pos = 0\n",
    "    \n",
    "    with adi_docs.batch.dynamic() as batch:\n",
    "           # Loop through the data\n",
    "        for chunk_obj in tqdm(chunk_obj_list, total=len(chunk_obj_list), desc=\"Processing\", unit=\"chunk\"):\n",
    "            cur_embedding = chunk_embedding_list[list_pos]\n",
    "            cur_uuid = chunk_uuid_list[list_pos]\n",
    "\n",
    "            # Add object to batch queue\n",
    "            batch.add_object(\n",
    "                properties=chunk_obj,\n",
    "                vector = cur_embedding,  \n",
    "                uuid=cur_uuid,              \n",
    "            )\n",
    "\n",
    "            list_pos += 1\n",
    "            \n",
    "      # Check for failed objects\n",
    "    if len(adi_docs.batch.failed_objects) > 0:\n",
    "        print(f\"Failed to import {len(adi_docs.batch.failed_objects)} objects\")\n",
    "\n",
    "finally:\n",
    "    client.close()"
   ]
  },
  {
   "cell_type": "markdown",
   "id": "875e96ce-3f84-4af7-87d1-831c308b485c",
   "metadata": {},
   "source": [
    "Again, make sure we have all the chunks in there:"
   ]
  },
  {
   "cell_type": "code",
   "execution_count": 23,
   "id": "ccc0ccdf-fb72-4de2-8725-fdb3550b2545",
   "metadata": {},
   "outputs": [
    {
     "name": "stdout",
     "output_type": "stream",
     "text": [
      "68090\n"
     ]
    }
   ],
   "source": [
    "try:    \n",
    "    # connect to database\n",
    "    client = weaviate.connect_to_local()\n",
    "           \n",
    "    # Get the collection\n",
    "    adi_docs = client.collections.get(\"ADI_DOCS_TOO\")\n",
    "    response = adi_docs.aggregate.over_all(total_count=True)\n",
    "    print(response.total_count)\n",
    "\n",
    "finally:\n",
    "    client.close()"
   ]
  },
  {
   "cell_type": "markdown",
   "id": "7ec4fbc4-06a6-438d-b144-747d9be998b2",
   "metadata": {},
   "source": [
    "### Perform RAG!"
   ]
  },
  {
   "cell_type": "code",
   "execution_count": 24,
   "id": "5deb4115-4f81-4065-ba39-234b831bc969",
   "metadata": {},
   "outputs": [
    {
     "name": "stdin",
     "output_type": "stream",
     "text": [
      "Enter your query: What is the most efficient method to manage memory and ensure optimal performance when using the ADSP-BF539’s Direct Memory Access (DMA) for continuous data transfers, and how can you avoid DMA aborts during high-priority tasks?\n"
     ]
    }
   ],
   "source": [
    "query = input(\"Enter your query:\")"
   ]
  },
  {
   "cell_type": "markdown",
   "id": "a5798cb4-2650-446d-9179-179034d6311c",
   "metadata": {},
   "source": [
    "### Search the database"
   ]
  },
  {
   "cell_type": "code",
   "execution_count": 26,
   "id": "6a7ea1f9-2003-44fc-82ba-ea67e2649c34",
   "metadata": {},
   "outputs": [
    {
     "name": "stdout",
     "output_type": "stream",
     "text": [
      "ADSP-BF539 Blackfin Processor Hardware Reference 9-67 \n",
      " Direct Memory Access\n",
      "Urgent DMA Transfers\n",
      "Typically, DMA transfers fo r a given peripheral occu r at regular intervals. \n",
      "Generally, the shorter the interval, the higher the priority that should be \n",
      "assigned to the peripheral. If the av erage bandwidth of all the peripherals \n",
      "is not too large a fraction of the total,  then all peripheral s’ requests should \n",
      "be granted as required.\n",
      "Occasionally, instantaneous DMA traffi c might exceed the available band-\n",
      "width, causing congestion. This may occu r if L1 or external memory is \n",
      "temporarily stalled, perhaps for an S DRAM page swap or a cache line fill. \n",
      "Congestion might also occur if one or more DMA channels initiates a bea5c2e5-43ee-513a-bf63-90b81cbf7c1a\n",
      "Distance to query: 0.180\n",
      "\n",
      "ADSP-BF538/ADSP-BF538F Blackfin Pr ocessor Hardware Reference 9-59 \n",
      " Direct Memory Access\n",
      " Descriptor fetches consume on e DMA memory cycle per 16-bit \n",
      "word read from memory, but do not delay transfers on the DAB \n",
      "bus.\n",
      " Initialization of a DMA channel st alls DMA activity for one cycle. \n",
      "This occurs when DMA_EN  changes from 0 to 1 or when the RESTART  \n",
      "bit is set to 1 in the DMAx_CONFIG  register.\n",
      "Several of these factors may be minimized by prope r design of the applica-\n",
      "tion software. It is often possible to structure the software to avoid \n",
      "internal and external memory conflicts  by careful allocation of data buffers \n",
      "within banks and pages, and by pla nning for low cache activity during \n",
      "critical DMA operations. Furthermore , unnecessary MMR accesses can be 74b76655-b8a6-52aa-b6b9-98b7ff1e58d5\n",
      "Distance to query: 0.180\n",
      "\n",
      "ADSP-BF538/ADSP-BF538F Blackfin Pr ocessor Hardware Reference 9-39 \n",
      " Direct Memory Access\n",
      "In auto buffer ( F L O W=1 ) mode, or if a list or ar ray of descriptors without \n",
      "DMACFG  elements is used, then the DM A transfer process must be termi-\n",
      "nated by an MMR write to the DMAx_CONFIG  register with a value whose \n",
      "DMA_EN  bit is 0. A write of 0 to the ent ire register always terminates DMA \n",
      "gracefully (without DMA abort).\n",
      "Before enabling the channel again, ma ke sure that any slow memory read \n",
      "operations that may have started ar e completed (for example, reads from \n",
      "slow external memory). Do not enab le the channel again until any such \n",
      "reads are complete.\n",
      "Software Management of DMA \n",
      "Several synchronization and control meth ods are available for use in devel- 0ea6cd37-0443-5c4d-a73b-1a51c49e3598\n",
      "Distance to query: 0.181\n",
      "\n",
      "ADSP-BF533 Blackfin Processor Hardware Reference 9-59 \n",
      " Direct Memory Access\n",
      "By selection of various ro und robin period values P which limit how often \n",
      "the MDMA streams alternate, maxim al transfer efficiency can be \n",
      "maintained.\n",
      "Urgent DMA Transfers\n",
      "Typically, DMA transfers fo r a given peripheral occu r at regular intervals. \n",
      "Generally, the shorter the interval, the higher the priority that should be \n",
      "assigned to the peripheral. If the av erage bandwidth of all the peripherals \n",
      "is not too large a fraction of the total,  then all peripheral s’ requests should \n",
      "be granted as required.\n",
      "Occasionally, instantaneous DMA traffi c might exceed the available band-\n",
      "width, causing congestion. This may occu r if L1 or external memory is 47e9bc12-d92d-5a0f-8c59-d3df7f255237\n",
      "Distance to query: 0.181\n",
      "\n",
      "provides a default mapping,  the user can alter the mappings and priorities \n",
      "of interrupt events by writing the appropriate va lues into the Interrupt \n",
      "Assignment Registers (IAR).\n",
      "DMA Support \n",
      "The ADSP-BF561 has multiple, indepe ndent DMA controllers that sup-\n",
      "port automated data transfers with minimal overhead for the core. DMA \n",
      "transfers can occur between the AD SP-BF561 internal memories and any \n",
      "of its DMA-capable peripherals. A dditionally, DMA transfers can be \n",
      "accomplished between any of the DMA- capable peripherals and external \n",
      "devices connected to the external memory interfaces, including the \n",
      "SDRAM controller and the asy nchronous memory controller. \n",
      "DMA-capable peripherals includ e the SPORTs, SPI port, UART, and 74214baa-77f8-5bc3-9aed-709bd4e20231\n",
      "Distance to query: 0.182\n",
      "\n",
      "ADSP-BF539 Blackfin Processor Hardware Reference 9-67 \n",
      " Direct Memory Access\n",
      "Urgent DMA Transfers\n",
      "Typically, DMA transfers fo r a given peripheral occu r at regular intervals. \n",
      "Generally, the shorter the interval, the higher the priority that should be \n",
      "assigned to the peripheral. If the av erage bandwidth of all the peripherals \n",
      "is not too large a fraction of the total,  then all peripheral s’ requests should \n",
      "be granted as required.\n",
      "Occasionally, instantaneous DMA traffi c might exceed the available band-\n",
      "width, causing congestion. This may occu r if L1 or external memory is \n",
      "temporarily stalled, perhaps for an S DRAM page swap or a cache line fill. \n",
      "Congestion might also occur if one or more DMA channels initiates a\n",
      "\n",
      "\n",
      "ADSP-BF538/ADSP-BF538F Blackfin Pr ocessor Hardware Reference 9-59 \n",
      " Direct Memory Access\n",
      " Descriptor fetches consume on e DMA memory cycle per 16-bit \n",
      "word read from memory, but do not delay transfers on the DAB \n",
      "bus.\n",
      " Initialization of a DMA channel st alls DMA activity for one cycle. \n",
      "This occurs when DMA_EN  changes from 0 to 1 or when the RESTART  \n",
      "bit is set to 1 in the DMAx_CONFIG  register.\n",
      "Several of these factors may be minimized by prope r design of the applica-\n",
      "tion software. It is often possible to structure the software to avoid \n",
      "internal and external memory conflicts  by careful allocation of data buffers \n",
      "within banks and pages, and by pla nning for low cache activity during \n",
      "critical DMA operations. Furthermore , unnecessary MMR accesses can be\n",
      "\n",
      "\n",
      "ADSP-BF538/ADSP-BF538F Blackfin Pr ocessor Hardware Reference 9-39 \n",
      " Direct Memory Access\n",
      "In auto buffer ( F L O W=1 ) mode, or if a list or ar ray of descriptors without \n",
      "DMACFG  elements is used, then the DM A transfer process must be termi-\n",
      "nated by an MMR write to the DMAx_CONFIG  register with a value whose \n",
      "DMA_EN  bit is 0. A write of 0 to the ent ire register always terminates DMA \n",
      "gracefully (without DMA abort).\n",
      "Before enabling the channel again, ma ke sure that any slow memory read \n",
      "operations that may have started ar e completed (for example, reads from \n",
      "slow external memory). Do not enab le the channel again until any such \n",
      "reads are complete.\n",
      "Software Management of DMA \n",
      "Several synchronization and control meth ods are available for use in devel-\n",
      "\n",
      "\n",
      "ADSP-BF533 Blackfin Processor Hardware Reference 9-59 \n",
      " Direct Memory Access\n",
      "By selection of various ro und robin period values P which limit how often \n",
      "the MDMA streams alternate, maxim al transfer efficiency can be \n",
      "maintained.\n",
      "Urgent DMA Transfers\n",
      "Typically, DMA transfers fo r a given peripheral occu r at regular intervals. \n",
      "Generally, the shorter the interval, the higher the priority that should be \n",
      "assigned to the peripheral. If the av erage bandwidth of all the peripherals \n",
      "is not too large a fraction of the total,  then all peripheral s’ requests should \n",
      "be granted as required.\n",
      "Occasionally, instantaneous DMA traffi c might exceed the available band-\n",
      "width, causing congestion. This may occu r if L1 or external memory is\n",
      "\n",
      "\n",
      "provides a default mapping,  the user can alter the mappings and priorities \n",
      "of interrupt events by writing the appropriate va lues into the Interrupt \n",
      "Assignment Registers (IAR).\n",
      "DMA Support \n",
      "The ADSP-BF561 has multiple, indepe ndent DMA controllers that sup-\n",
      "port automated data transfers with minimal overhead for the core. DMA \n",
      "transfers can occur between the AD SP-BF561 internal memories and any \n",
      "of its DMA-capable peripherals. A dditionally, DMA transfers can be \n",
      "accomplished between any of the DMA- capable peripherals and external \n",
      "devices connected to the external memory interfaces, including the \n",
      "SDRAM controller and the asy nchronous memory controller. \n",
      "DMA-capable peripherals includ e the SPORTs, SPI port, UART, and\n",
      "\n",
      "\n"
     ]
    }
   ],
   "source": [
    "import weaviate\n",
    "import os\n",
    "import weaviate.classes.query as wq\n",
    "\n",
    "context = \"\"\n",
    "\n",
    "try:    \n",
    "    # connect to database\n",
    "    client = weaviate.connect_to_local()\n",
    "    adi_docs = client.collections.get(\"ADI_DOCS_TOO\")\n",
    "\n",
    "    # create an embedding for the query\n",
    "\n",
    "    # Get query embedding\n",
    "    response = ollama.embeddings(model=\"nomic-embed-text\", \n",
    "                                     prompt=query)\n",
    "\n",
    "    query_vector = response[\"embedding\"]\n",
    "    \n",
    "    # Perform query\n",
    "    response = adi_docs.query.near_vector(\n",
    "        near_vector = query_vector, \n",
    "        limit=5, # maximum number of results\n",
    "        return_metadata=MetadataQuery(distance=True)\n",
    "    )\n",
    "\n",
    "    # Inspect the response\n",
    "    for o in response.objects:\n",
    "        print(\n",
    "            o.properties[\"chunk_content\"], o.uuid\n",
    "        )  # Print the title and release year (note the release date is a datetime object)\n",
    "        print(\n",
    "            f\"Distance to query: {o.metadata.distance:.3f}\\n\"\n",
    "        )  # Print the distance of the object from the query\n",
    "\n",
    "    for o in response.objects:\n",
    "        print(o.properties['chunk_content'])\n",
    "        print(\"\\n\")\n",
    "        context = context + o.properties['chunk_content'] + '\\n---\\n'\n",
    "\n",
    "finally:\n",
    "    client.close()"
   ]
  },
  {
   "cell_type": "markdown",
   "id": "c6991de6-740e-45ce-ace4-23de57b573b2",
   "metadata": {},
   "source": [
    "### Populate our prompt template"
   ]
  },
  {
   "cell_type": "code",
   "execution_count": 27,
   "id": "c78c2b8d-6caf-46d0-b533-94a54609045f",
   "metadata": {},
   "outputs": [],
   "source": [
    "PROMPT_TEMPLATE = f\"\"\"\n",
    "Answer the question based only on the following context:\n",
    "{context}\n",
    "\n",
    "---\n",
    "Answer the question based on the above context: {query}\n",
    "\"\"\""
   ]
  },
  {
   "cell_type": "markdown",
   "id": "a3aede78-bb08-44ed-8167-063c3cce2083",
   "metadata": {},
   "source": [
    "### Send query to OpenAI for generation"
   ]
  },
  {
   "cell_type": "code",
   "execution_count": 28,
   "id": "f8aae51b-1fa0-43f3-a2ea-346d6e8a7e30",
   "metadata": {},
   "outputs": [
    {
     "name": "stdout",
     "output_type": "stream",
     "text": [
      "Assistant: The most efficient method to manage memory and ensure optimal performance when using the ADSP-BF539's DMA for continuous data transfers is to carefully allocate data buffers within banks and pages, and plan for low cache activity during critical DMA operations. To avoid DMA aborts during high-priority tasks, it is important to make sure that any slow memory read operations are completed before enabling the channel again. Additionally, unnecessary MMR accesses should be minimized.\n"
     ]
    }
   ],
   "source": [
    "from openai import OpenAI\n",
    "import os\n",
    "client = OpenAI(api_key=os.environ.get(\"OPENAI_API_KEY\"))\n",
    "MODEL=\"gpt-3.5-turbo-instruct\"\n",
    "\n",
    "completion = client.completions.create(\n",
    "  model = MODEL,\n",
    "    prompt = PROMPT_TEMPLATE,\n",
    "    max_tokens = 500,\n",
    "    temperature = 0.7,\n",
    ")\n",
    "\n",
    "print(\"Assistant: \" + completion.choices[0].text.strip())"
   ]
  },
  {
   "cell_type": "markdown",
   "id": "85a31e99-0ee1-4287-b433-30ff51f28f4c",
   "metadata": {},
   "source": [
    "We can compare this answer to running it with ChatGPT4o, which answered:\n",
    "> To answer the question **\"What is the most efficient method to manage memory and ensure optimal performance when using the ADSP-BF539’s Direct Memory Access (DMA) for continuous data transfers, and how can you avoid DMA aborts during high-priority tasks?\"**, we can break it down based on key elements from the document.\n",
    "\n",
    "> ### 1. **Optimizing Memory Management for DMA Transfers:**\n",
    ">   - **Proper Allocation of Data Buffers:** A key technique is to **avoid memory conflicts** by carefully allocating data buffers within banks and pages of memory. The use of **autobuffering** or **descriptors** can reduce the need for unnecessary MMR (memory-mapped register) accesses, which can stall the DMA【156:0†source】.\n",
    ">   - **Minimize Direction Changes (Thrashing):** The processor's **traffic control features** help reduce efficiency losses caused by direction changes (i.e., switching from read to write or vice versa). Traffic control mechanisms, such as **DMACx_TC_PER** and **DMACx_TC_CNT** registers, can automatically optimize transfer direction and limit real-time processor intervention【156:0†source】【156:17†source】.\n",
    "\n",
    "> ### 2. **Ensuring Optimal Performance:**\n",
    ">   - **Channel Prioritization:** The ADSP-BF539 DMA channels are serviced based on priority, where lower-numbered channels get higher priority. Thus, peripherals requiring low-latency or high-throughput should be assigned to **lower-numbered DMA channels** via **DMAx_PERIPHERAL_MAP** registers【156:0†source】. This allows these peripherals to avoid being starved of DMA access by less important tasks.\n",
    ">   - **Round Robin Scheduling for MDMA:** When multiple memory DMA (MDMA) streams are enabled, the **MDMA_ROUND_ROBIN_PERIOD** can be configured to ensure that all streams share bandwidth fairly. This helps prevent starvation of lower-priority streams while maintaining high throughput【156:0†source】【156:4†source】.\n",
    "\n",
    ">### 3. **Avoiding DMA Aborts:**\n",
    ">  - **Error Handling:** The **DMA_ERROR interrupt** is triggered when certain conditions are detected, such as disallowed register writes, address alignment errors, or access to unpopulated memory spaces【156:2†source】【156:4†source】. To prevent these issues, ensure the **DMA_CONFIG register** is properly set and that memory addresses are aligned according to the specified word size. Additionally, **descriptors** should be configured correctly, especially when crossing memory boundaries【156:6†source】.\n",
    ">   - **MDMA Stream Configuration:** Ensure that **source and destination streams** are properly synchronized. Errors can occur if the configuration of word sizes or memory spaces between source and destination is incorrect【156:18†source】.\n",
    "\n",
    ">### 4. **Handling High-Priority Tasks:**\n",
    ">   - **Interrupt-based Synchronization:** It’s crucial to synchronize the completion of DMA tasks with software using interrupts rather than polling, which can lead to delays. Polling is not recommended due to pipeline and FIFO delays, which can result in synchronization issues between core and DMA operations【156:13†source】.\n",
    ">   - **Handling DMA Latency:** To avoid high-latency issues, careful arbitration must be managed between the **DMA controllers** and core processor when accessing internal memory. Ensure that **peripheral DMA** does not interfere with memory DMA, which can lead to **underflow** or **overflow** conditions【156:5†source】.\n",
    "\n",
    "> ### Conclusion:\n",
    ">Efficiently managing memory during DMA operations in the ADSP-BF539 requires careful **buffer allocation**, **traffic control**, and **prioritization** of high-priority channels. Additionally, preventing DMA aborts can be achieved through correct **configuration** of descriptors and **synchronization** using interrupts rather than polling.\n",
    "\n",
    ">By leveraging **round-robin scheduling**, **traffic control mechanisms**, and **interrupt-based synchronization**, you can maximize DMA performance while minimizing the risk of errors and aborts during high-priority tasks."
   ]
  },
  {
   "cell_type": "markdown",
   "id": "868dcf40-1cfa-425e-8f4c-9c1f2cd46866",
   "metadata": {},
   "source": [
    "For giggles, let's try our prompt with a higher end model:"
   ]
  },
  {
   "cell_type": "code",
   "execution_count": 34,
   "id": "13f5e062-ce5a-4e0a-a5c1-50f705ea3afe",
   "metadata": {},
   "outputs": [
    {
     "name": "stdout",
     "output_type": "stream",
     "text": [
      "Assistant: To manage memory efficiently and ensure optimal performance when using the ADSP-BF539's Direct Memory Access (DMA) for continuous data transfers, a few strategies should be employed:\n",
      "\n",
      "1. **Priority Assignment:** Assign higher priority to peripherals with shorter transfer intervals as they require more frequent data transfers.\n",
      "\n",
      "2. **Bandwidth Management:** Ensure that the average bandwidth of all peripherals does not occupy too large a fraction of the total available bandwidth. This prevents congestion and ensures that all peripheral requests can be granted as necessary.\n",
      "\n",
      "3. **Memory Conflict Avoidance:** Structure your application software to minimize memory conflicts by carefully allocating data buffers within distinct memory banks and pages. Plan for low cache activity during critical DMA operations to avoid stalls.\n",
      "\n",
      "4. **Descriptor Management:** In auto buffer mode, terminate DMA transfers gracefully by writing to the DMAx_CONFIG register with the DMA_EN bit set to 0. Ensure that any ongoing slow memory read operations are completed before re-enabling the DMA channel to avoid conflicts.\n",
      "\n",
      "To avoid DMA aborts during high-priority tasks, ensure that the DMA transfer process is terminated properly (without a forced abort) by configuring the DMAx_CONFIG register correctly, especially during mode transitions.\n"
     ]
    }
   ],
   "source": [
    "from openai import OpenAI\n",
    "import os\n",
    "client = OpenAI(api_key=os.environ.get(\"OPENAI_API_KEY\"))\n",
    "MODEL=\"gpt-4o\"\n",
    "\n",
    "completion = client.chat.completions.create(\n",
    "    model = MODEL,\n",
    "    messages=[\n",
    "        {\"role\": \"system\", \"content\": \"You are a helpful assistant with expertise in electrical engineering.\"},\n",
    "        {\n",
    "            \"role\": \"user\",\n",
    "            \"content\": PROMPT_TEMPLATE\n",
    "        }\n",
    "    ]\n",
    ")\n",
    "\n",
    "print(\"Assistant: \" + completion.choices[0].message.content)\n"
   ]
  }
 ],
 "metadata": {
  "kernelspec": {
   "display_name": "Python 3 (ipykernel)",
   "language": "python",
   "name": "python3"
  },
  "language_info": {
   "codemirror_mode": {
    "name": "ipython",
    "version": 3
   },
   "file_extension": ".py",
   "mimetype": "text/x-python",
   "name": "python",
   "nbconvert_exporter": "python",
   "pygments_lexer": "ipython3",
   "version": "3.12.7"
  }
 },
 "nbformat": 4,
 "nbformat_minor": 5
}
